{
  "nbformat": 4,
  "nbformat_minor": 0,
  "metadata": {
    "colab": {
      "provenance": [],
      "authorship_tag": "ABX9TyNhlgV/XR148WRr6P8IFKKo",
      "include_colab_link": true
    },
    "kernelspec": {
      "name": "python3",
      "display_name": "Python 3"
    },
    "language_info": {
      "name": "python"
    }
  },
  "cells": [
    {
      "cell_type": "markdown",
      "metadata": {
        "id": "view-in-github",
        "colab_type": "text"
      },
      "source": [
        "<a href=\"https://colab.research.google.com/github/Raj0408/Movie_Recommendation/blob/main/movie_recommendation.ipynb\" target=\"_parent\"><img src=\"https://colab.research.google.com/assets/colab-badge.svg\" alt=\"Open In Colab\"/></a>"
      ]
    },
    {
      "cell_type": "code",
      "source": [
        "import numpy as np\n",
        "import numpy.ma as ma\n",
        "import pandas as pd\n",
        "import tensorflow as tf\n",
        "from tensorflow import keras\n",
        "from sklearn.preprocessing import StandardScaler, MinMaxScaler\n",
        "from sklearn.model_selection import train_test_split\n",
        "import tabulate\n",
        "\n",
        "pd.set_option(\"display.precision\", 1)\n"
      ],
      "metadata": {
        "id": "JRrPtmLDXUln"
      },
      "execution_count": null,
      "outputs": []
    },
    {
      "cell_type": "code",
      "source": [
        "from google.colab import drive\n",
        "drive.mount('/content/drive')"
      ],
      "metadata": {
        "id": "pegSkOrIvzGq"
      },
      "execution_count": null,
      "outputs": []
    },
    {
      "cell_type": "code",
      "source": [
        "pip install pickle5"
      ],
      "metadata": {
        "colab": {
          "base_uri": "https://localhost:8080/"
        },
        "id": "nsQGIKPGXaAf",
        "outputId": "543f2e88-7529-458b-9df9-ae895babdf27"
      },
      "execution_count": null,
      "outputs": [
        {
          "output_type": "stream",
          "name": "stdout",
          "text": [
            "Collecting pickle5\n",
            "  Downloading pickle5-0.0.11.tar.gz (132 kB)\n",
            "\u001b[?25l     \u001b[90m━━━━━━━━━━━━━━━━━━━━━━━━━━━━━━━━━━━━━━━━\u001b[0m \u001b[32m0.0/132.1 kB\u001b[0m \u001b[31m?\u001b[0m eta \u001b[36m-:--:--\u001b[0m\r\u001b[2K     \u001b[90m━━━━━━━━━━━━━━━━━━━━━━━━━━━━━━━━━━━━━━━\u001b[0m \u001b[32m132.1/132.1 kB\u001b[0m \u001b[31m5.3 MB/s\u001b[0m eta \u001b[36m0:00:00\u001b[0m\n",
            "\u001b[?25h  Preparing metadata (setup.py) ... \u001b[?25l\u001b[?25hdone\n",
            "Building wheels for collected packages: pickle5\n",
            "  Building wheel for pickle5 (setup.py) ... \u001b[?25l\u001b[?25hdone\n",
            "  Created wheel for pickle5: filename=pickle5-0.0.11-cp310-cp310-linux_x86_64.whl size=256385 sha256=055d88fad6b25aabc8712d99db9f638eae1198b3cda66ae9a872e2949c8b21e4\n",
            "  Stored in directory: /root/.cache/pip/wheels/7d/14/ef/4aab19d27fa8e58772be5c71c16add0426acf9e1f64353235c\n",
            "Successfully built pickle5\n",
            "Installing collected packages: pickle5\n",
            "Successfully installed pickle5-0.0.11\n"
          ]
        }
      ]
    },
    {
      "cell_type": "code",
      "source": [
        "top10_df = pd.read_csv(\"content_top10_df.csv\")\n",
        "bygenre_df = pd.read_csv(\"content_bygenre_df.csv\")\n",
        "top10_df"
      ],
      "metadata": {
        "colab": {
          "base_uri": "https://localhost:8080/",
          "height": 363
        },
        "id": "Ocbudt5WXn84",
        "outputId": "e7c16b74-a738-4043-a97a-de7a3fe3a905"
      },
      "execution_count": null,
      "outputs": [
        {
          "output_type": "execute_result",
          "data": {
            "text/plain": [
              "   movie id  num ratings  ave rating  \\\n",
              "0      4993          198         4.1   \n",
              "1      5952          188         4.0   \n",
              "2      7153          185         4.1   \n",
              "3      4306          170         3.9   \n",
              "4     58559          149         4.2   \n",
              "5      6539          149         3.8   \n",
              "6     79132          143         4.1   \n",
              "7      6377          141         4.0   \n",
              "8      4886          132         3.9   \n",
              "9      7361          131         4.2   \n",
              "\n",
              "                                               title  \\\n",
              "0  Lord of the Rings: The Fellowship of the Ring,...   \n",
              "1             Lord of the Rings: The Two Towers, The   \n",
              "2     Lord of the Rings: The Return of the King, The   \n",
              "3                                              Shrek   \n",
              "4                                   Dark Knight, The   \n",
              "5  Pirates of the Caribbean: The Curse of the Bla...   \n",
              "6                                          Inception   \n",
              "7                                       Finding Nemo   \n",
              "8                                     Monsters, Inc.   \n",
              "9              Eternal Sunshine of the Spotless Mind   \n",
              "\n",
              "                                              genres  \n",
              "0                                  Adventure|Fantasy  \n",
              "1                                  Adventure|Fantasy  \n",
              "2                     Action|Adventure|Drama|Fantasy  \n",
              "3  Adventure|Animation|Children|Comedy|Fantasy|Ro...  \n",
              "4                                 Action|Crime|Drama  \n",
              "5                    Action|Adventure|Comedy|Fantasy  \n",
              "6         Action|Crime|Drama|Mystery|Sci-Fi|Thriller  \n",
              "7                Adventure|Animation|Children|Comedy  \n",
              "8        Adventure|Animation|Children|Comedy|Fantasy  \n",
              "9                               Drama|Romance|Sci-Fi  "
            ],
            "text/html": [
              "\n",
              "  <div id=\"df-71642163-ed42-4bad-bbe0-21d8c6d3b343\">\n",
              "    <div class=\"colab-df-container\">\n",
              "      <div>\n",
              "<style scoped>\n",
              "    .dataframe tbody tr th:only-of-type {\n",
              "        vertical-align: middle;\n",
              "    }\n",
              "\n",
              "    .dataframe tbody tr th {\n",
              "        vertical-align: top;\n",
              "    }\n",
              "\n",
              "    .dataframe thead th {\n",
              "        text-align: right;\n",
              "    }\n",
              "</style>\n",
              "<table border=\"1\" class=\"dataframe\">\n",
              "  <thead>\n",
              "    <tr style=\"text-align: right;\">\n",
              "      <th></th>\n",
              "      <th>movie id</th>\n",
              "      <th>num ratings</th>\n",
              "      <th>ave rating</th>\n",
              "      <th>title</th>\n",
              "      <th>genres</th>\n",
              "    </tr>\n",
              "  </thead>\n",
              "  <tbody>\n",
              "    <tr>\n",
              "      <th>0</th>\n",
              "      <td>4993</td>\n",
              "      <td>198</td>\n",
              "      <td>4.1</td>\n",
              "      <td>Lord of the Rings: The Fellowship of the Ring,...</td>\n",
              "      <td>Adventure|Fantasy</td>\n",
              "    </tr>\n",
              "    <tr>\n",
              "      <th>1</th>\n",
              "      <td>5952</td>\n",
              "      <td>188</td>\n",
              "      <td>4.0</td>\n",
              "      <td>Lord of the Rings: The Two Towers, The</td>\n",
              "      <td>Adventure|Fantasy</td>\n",
              "    </tr>\n",
              "    <tr>\n",
              "      <th>2</th>\n",
              "      <td>7153</td>\n",
              "      <td>185</td>\n",
              "      <td>4.1</td>\n",
              "      <td>Lord of the Rings: The Return of the King, The</td>\n",
              "      <td>Action|Adventure|Drama|Fantasy</td>\n",
              "    </tr>\n",
              "    <tr>\n",
              "      <th>3</th>\n",
              "      <td>4306</td>\n",
              "      <td>170</td>\n",
              "      <td>3.9</td>\n",
              "      <td>Shrek</td>\n",
              "      <td>Adventure|Animation|Children|Comedy|Fantasy|Ro...</td>\n",
              "    </tr>\n",
              "    <tr>\n",
              "      <th>4</th>\n",
              "      <td>58559</td>\n",
              "      <td>149</td>\n",
              "      <td>4.2</td>\n",
              "      <td>Dark Knight, The</td>\n",
              "      <td>Action|Crime|Drama</td>\n",
              "    </tr>\n",
              "    <tr>\n",
              "      <th>5</th>\n",
              "      <td>6539</td>\n",
              "      <td>149</td>\n",
              "      <td>3.8</td>\n",
              "      <td>Pirates of the Caribbean: The Curse of the Bla...</td>\n",
              "      <td>Action|Adventure|Comedy|Fantasy</td>\n",
              "    </tr>\n",
              "    <tr>\n",
              "      <th>6</th>\n",
              "      <td>79132</td>\n",
              "      <td>143</td>\n",
              "      <td>4.1</td>\n",
              "      <td>Inception</td>\n",
              "      <td>Action|Crime|Drama|Mystery|Sci-Fi|Thriller</td>\n",
              "    </tr>\n",
              "    <tr>\n",
              "      <th>7</th>\n",
              "      <td>6377</td>\n",
              "      <td>141</td>\n",
              "      <td>4.0</td>\n",
              "      <td>Finding Nemo</td>\n",
              "      <td>Adventure|Animation|Children|Comedy</td>\n",
              "    </tr>\n",
              "    <tr>\n",
              "      <th>8</th>\n",
              "      <td>4886</td>\n",
              "      <td>132</td>\n",
              "      <td>3.9</td>\n",
              "      <td>Monsters, Inc.</td>\n",
              "      <td>Adventure|Animation|Children|Comedy|Fantasy</td>\n",
              "    </tr>\n",
              "    <tr>\n",
              "      <th>9</th>\n",
              "      <td>7361</td>\n",
              "      <td>131</td>\n",
              "      <td>4.2</td>\n",
              "      <td>Eternal Sunshine of the Spotless Mind</td>\n",
              "      <td>Drama|Romance|Sci-Fi</td>\n",
              "    </tr>\n",
              "  </tbody>\n",
              "</table>\n",
              "</div>\n",
              "      <button class=\"colab-df-convert\" onclick=\"convertToInteractive('df-71642163-ed42-4bad-bbe0-21d8c6d3b343')\"\n",
              "              title=\"Convert this dataframe to an interactive table.\"\n",
              "              style=\"display:none;\">\n",
              "        \n",
              "  <svg xmlns=\"http://www.w3.org/2000/svg\" height=\"24px\"viewBox=\"0 0 24 24\"\n",
              "       width=\"24px\">\n",
              "    <path d=\"M0 0h24v24H0V0z\" fill=\"none\"/>\n",
              "    <path d=\"M18.56 5.44l.94 2.06.94-2.06 2.06-.94-2.06-.94-.94-2.06-.94 2.06-2.06.94zm-11 1L8.5 8.5l.94-2.06 2.06-.94-2.06-.94L8.5 2.5l-.94 2.06-2.06.94zm10 10l.94 2.06.94-2.06 2.06-.94-2.06-.94-.94-2.06-.94 2.06-2.06.94z\"/><path d=\"M17.41 7.96l-1.37-1.37c-.4-.4-.92-.59-1.43-.59-.52 0-1.04.2-1.43.59L10.3 9.45l-7.72 7.72c-.78.78-.78 2.05 0 2.83L4 21.41c.39.39.9.59 1.41.59.51 0 1.02-.2 1.41-.59l7.78-7.78 2.81-2.81c.8-.78.8-2.07 0-2.86zM5.41 20L4 18.59l7.72-7.72 1.47 1.35L5.41 20z\"/>\n",
              "  </svg>\n",
              "      </button>\n",
              "      \n",
              "  <style>\n",
              "    .colab-df-container {\n",
              "      display:flex;\n",
              "      flex-wrap:wrap;\n",
              "      gap: 12px;\n",
              "    }\n",
              "\n",
              "    .colab-df-convert {\n",
              "      background-color: #E8F0FE;\n",
              "      border: none;\n",
              "      border-radius: 50%;\n",
              "      cursor: pointer;\n",
              "      display: none;\n",
              "      fill: #1967D2;\n",
              "      height: 32px;\n",
              "      padding: 0 0 0 0;\n",
              "      width: 32px;\n",
              "    }\n",
              "\n",
              "    .colab-df-convert:hover {\n",
              "      background-color: #E2EBFA;\n",
              "      box-shadow: 0px 1px 2px rgba(60, 64, 67, 0.3), 0px 1px 3px 1px rgba(60, 64, 67, 0.15);\n",
              "      fill: #174EA6;\n",
              "    }\n",
              "\n",
              "    [theme=dark] .colab-df-convert {\n",
              "      background-color: #3B4455;\n",
              "      fill: #D2E3FC;\n",
              "    }\n",
              "\n",
              "    [theme=dark] .colab-df-convert:hover {\n",
              "      background-color: #434B5C;\n",
              "      box-shadow: 0px 1px 3px 1px rgba(0, 0, 0, 0.15);\n",
              "      filter: drop-shadow(0px 1px 2px rgba(0, 0, 0, 0.3));\n",
              "      fill: #FFFFFF;\n",
              "    }\n",
              "  </style>\n",
              "\n",
              "      <script>\n",
              "        const buttonEl =\n",
              "          document.querySelector('#df-71642163-ed42-4bad-bbe0-21d8c6d3b343 button.colab-df-convert');\n",
              "        buttonEl.style.display =\n",
              "          google.colab.kernel.accessAllowed ? 'block' : 'none';\n",
              "\n",
              "        async function convertToInteractive(key) {\n",
              "          const element = document.querySelector('#df-71642163-ed42-4bad-bbe0-21d8c6d3b343');\n",
              "          const dataTable =\n",
              "            await google.colab.kernel.invokeFunction('convertToInteractive',\n",
              "                                                     [key], {});\n",
              "          if (!dataTable) return;\n",
              "\n",
              "          const docLinkHtml = 'Like what you see? Visit the ' +\n",
              "            '<a target=\"_blank\" href=https://colab.research.google.com/notebooks/data_table.ipynb>data table notebook</a>'\n",
              "            + ' to learn more about interactive tables.';\n",
              "          element.innerHTML = '';\n",
              "          dataTable['output_type'] = 'display_data';\n",
              "          await google.colab.output.renderOutput(dataTable, element);\n",
              "          const docLink = document.createElement('div');\n",
              "          docLink.innerHTML = docLinkHtml;\n",
              "          element.appendChild(docLink);\n",
              "        }\n",
              "      </script>\n",
              "    </div>\n",
              "  </div>\n",
              "  "
            ]
          },
          "metadata": {},
          "execution_count": 3
        }
      ]
    },
    {
      "cell_type": "code",
      "source": [
        "bygenre_df"
      ],
      "metadata": {
        "colab": {
          "base_uri": "https://localhost:8080/",
          "height": 488
        },
        "id": "4U4abzx1YEou",
        "outputId": "58e3b7d9-79d8-45f1-8586-131ab329ea97"
      },
      "execution_count": null,
      "outputs": [
        {
          "output_type": "execute_result",
          "data": {
            "text/plain": [
              "          genre  num movies  ave rating/genre  ratings per genre\n",
              "0        Action         321               3.4              10377\n",
              "1     Adventure         234               3.4               8785\n",
              "2     Animation          76               3.6               2588\n",
              "3      Children          69               3.4               2472\n",
              "4        Comedy         326               3.4               8911\n",
              "5         Crime         139               3.5               4671\n",
              "6   Documentary          13               3.8                280\n",
              "7         Drama         342               3.6              10201\n",
              "8       Fantasy         124               3.4               4468\n",
              "9        Horror          56               3.2               1345\n",
              "10      Mystery          68               3.6               2497\n",
              "11      Romance         151               3.4               4468\n",
              "12       Sci-Fi         174               3.4               5894\n",
              "13     Thriller         245               3.4               7659"
            ],
            "text/html": [
              "\n",
              "  <div id=\"df-2f218ac5-9378-44c4-b808-edc3757fe9e4\">\n",
              "    <div class=\"colab-df-container\">\n",
              "      <div>\n",
              "<style scoped>\n",
              "    .dataframe tbody tr th:only-of-type {\n",
              "        vertical-align: middle;\n",
              "    }\n",
              "\n",
              "    .dataframe tbody tr th {\n",
              "        vertical-align: top;\n",
              "    }\n",
              "\n",
              "    .dataframe thead th {\n",
              "        text-align: right;\n",
              "    }\n",
              "</style>\n",
              "<table border=\"1\" class=\"dataframe\">\n",
              "  <thead>\n",
              "    <tr style=\"text-align: right;\">\n",
              "      <th></th>\n",
              "      <th>genre</th>\n",
              "      <th>num movies</th>\n",
              "      <th>ave rating/genre</th>\n",
              "      <th>ratings per genre</th>\n",
              "    </tr>\n",
              "  </thead>\n",
              "  <tbody>\n",
              "    <tr>\n",
              "      <th>0</th>\n",
              "      <td>Action</td>\n",
              "      <td>321</td>\n",
              "      <td>3.4</td>\n",
              "      <td>10377</td>\n",
              "    </tr>\n",
              "    <tr>\n",
              "      <th>1</th>\n",
              "      <td>Adventure</td>\n",
              "      <td>234</td>\n",
              "      <td>3.4</td>\n",
              "      <td>8785</td>\n",
              "    </tr>\n",
              "    <tr>\n",
              "      <th>2</th>\n",
              "      <td>Animation</td>\n",
              "      <td>76</td>\n",
              "      <td>3.6</td>\n",
              "      <td>2588</td>\n",
              "    </tr>\n",
              "    <tr>\n",
              "      <th>3</th>\n",
              "      <td>Children</td>\n",
              "      <td>69</td>\n",
              "      <td>3.4</td>\n",
              "      <td>2472</td>\n",
              "    </tr>\n",
              "    <tr>\n",
              "      <th>4</th>\n",
              "      <td>Comedy</td>\n",
              "      <td>326</td>\n",
              "      <td>3.4</td>\n",
              "      <td>8911</td>\n",
              "    </tr>\n",
              "    <tr>\n",
              "      <th>5</th>\n",
              "      <td>Crime</td>\n",
              "      <td>139</td>\n",
              "      <td>3.5</td>\n",
              "      <td>4671</td>\n",
              "    </tr>\n",
              "    <tr>\n",
              "      <th>6</th>\n",
              "      <td>Documentary</td>\n",
              "      <td>13</td>\n",
              "      <td>3.8</td>\n",
              "      <td>280</td>\n",
              "    </tr>\n",
              "    <tr>\n",
              "      <th>7</th>\n",
              "      <td>Drama</td>\n",
              "      <td>342</td>\n",
              "      <td>3.6</td>\n",
              "      <td>10201</td>\n",
              "    </tr>\n",
              "    <tr>\n",
              "      <th>8</th>\n",
              "      <td>Fantasy</td>\n",
              "      <td>124</td>\n",
              "      <td>3.4</td>\n",
              "      <td>4468</td>\n",
              "    </tr>\n",
              "    <tr>\n",
              "      <th>9</th>\n",
              "      <td>Horror</td>\n",
              "      <td>56</td>\n",
              "      <td>3.2</td>\n",
              "      <td>1345</td>\n",
              "    </tr>\n",
              "    <tr>\n",
              "      <th>10</th>\n",
              "      <td>Mystery</td>\n",
              "      <td>68</td>\n",
              "      <td>3.6</td>\n",
              "      <td>2497</td>\n",
              "    </tr>\n",
              "    <tr>\n",
              "      <th>11</th>\n",
              "      <td>Romance</td>\n",
              "      <td>151</td>\n",
              "      <td>3.4</td>\n",
              "      <td>4468</td>\n",
              "    </tr>\n",
              "    <tr>\n",
              "      <th>12</th>\n",
              "      <td>Sci-Fi</td>\n",
              "      <td>174</td>\n",
              "      <td>3.4</td>\n",
              "      <td>5894</td>\n",
              "    </tr>\n",
              "    <tr>\n",
              "      <th>13</th>\n",
              "      <td>Thriller</td>\n",
              "      <td>245</td>\n",
              "      <td>3.4</td>\n",
              "      <td>7659</td>\n",
              "    </tr>\n",
              "  </tbody>\n",
              "</table>\n",
              "</div>\n",
              "      <button class=\"colab-df-convert\" onclick=\"convertToInteractive('df-2f218ac5-9378-44c4-b808-edc3757fe9e4')\"\n",
              "              title=\"Convert this dataframe to an interactive table.\"\n",
              "              style=\"display:none;\">\n",
              "        \n",
              "  <svg xmlns=\"http://www.w3.org/2000/svg\" height=\"24px\"viewBox=\"0 0 24 24\"\n",
              "       width=\"24px\">\n",
              "    <path d=\"M0 0h24v24H0V0z\" fill=\"none\"/>\n",
              "    <path d=\"M18.56 5.44l.94 2.06.94-2.06 2.06-.94-2.06-.94-.94-2.06-.94 2.06-2.06.94zm-11 1L8.5 8.5l.94-2.06 2.06-.94-2.06-.94L8.5 2.5l-.94 2.06-2.06.94zm10 10l.94 2.06.94-2.06 2.06-.94-2.06-.94-.94-2.06-.94 2.06-2.06.94z\"/><path d=\"M17.41 7.96l-1.37-1.37c-.4-.4-.92-.59-1.43-.59-.52 0-1.04.2-1.43.59L10.3 9.45l-7.72 7.72c-.78.78-.78 2.05 0 2.83L4 21.41c.39.39.9.59 1.41.59.51 0 1.02-.2 1.41-.59l7.78-7.78 2.81-2.81c.8-.78.8-2.07 0-2.86zM5.41 20L4 18.59l7.72-7.72 1.47 1.35L5.41 20z\"/>\n",
              "  </svg>\n",
              "      </button>\n",
              "      \n",
              "  <style>\n",
              "    .colab-df-container {\n",
              "      display:flex;\n",
              "      flex-wrap:wrap;\n",
              "      gap: 12px;\n",
              "    }\n",
              "\n",
              "    .colab-df-convert {\n",
              "      background-color: #E8F0FE;\n",
              "      border: none;\n",
              "      border-radius: 50%;\n",
              "      cursor: pointer;\n",
              "      display: none;\n",
              "      fill: #1967D2;\n",
              "      height: 32px;\n",
              "      padding: 0 0 0 0;\n",
              "      width: 32px;\n",
              "    }\n",
              "\n",
              "    .colab-df-convert:hover {\n",
              "      background-color: #E2EBFA;\n",
              "      box-shadow: 0px 1px 2px rgba(60, 64, 67, 0.3), 0px 1px 3px 1px rgba(60, 64, 67, 0.15);\n",
              "      fill: #174EA6;\n",
              "    }\n",
              "\n",
              "    [theme=dark] .colab-df-convert {\n",
              "      background-color: #3B4455;\n",
              "      fill: #D2E3FC;\n",
              "    }\n",
              "\n",
              "    [theme=dark] .colab-df-convert:hover {\n",
              "      background-color: #434B5C;\n",
              "      box-shadow: 0px 1px 3px 1px rgba(0, 0, 0, 0.15);\n",
              "      filter: drop-shadow(0px 1px 2px rgba(0, 0, 0, 0.3));\n",
              "      fill: #FFFFFF;\n",
              "    }\n",
              "  </style>\n",
              "\n",
              "      <script>\n",
              "        const buttonEl =\n",
              "          document.querySelector('#df-2f218ac5-9378-44c4-b808-edc3757fe9e4 button.colab-df-convert');\n",
              "        buttonEl.style.display =\n",
              "          google.colab.kernel.accessAllowed ? 'block' : 'none';\n",
              "\n",
              "        async function convertToInteractive(key) {\n",
              "          const element = document.querySelector('#df-2f218ac5-9378-44c4-b808-edc3757fe9e4');\n",
              "          const dataTable =\n",
              "            await google.colab.kernel.invokeFunction('convertToInteractive',\n",
              "                                                     [key], {});\n",
              "          if (!dataTable) return;\n",
              "\n",
              "          const docLinkHtml = 'Like what you see? Visit the ' +\n",
              "            '<a target=\"_blank\" href=https://colab.research.google.com/notebooks/data_table.ipynb>data table notebook</a>'\n",
              "            + ' to learn more about interactive tables.';\n",
              "          element.innerHTML = '';\n",
              "          dataTable['output_type'] = 'display_data';\n",
              "          await google.colab.output.renderOutput(dataTable, element);\n",
              "          const docLink = document.createElement('div');\n",
              "          docLink.innerHTML = docLinkHtml;\n",
              "          element.appendChild(docLink);\n",
              "        }\n",
              "      </script>\n",
              "    </div>\n",
              "  </div>\n",
              "  "
            ]
          },
          "metadata": {},
          "execution_count": 4
        }
      ]
    },
    {
      "cell_type": "code",
      "source": [
        "from collections import defaultdict\n",
        "import csv\n",
        "import numpy as np\n",
        "from numpy import genfromtxt\n",
        "import pickle5 as pickle\n",
        "import tabulate\n",
        "\n",
        "def load_data():\n",
        "    ''' called to load preprepared data for the lab '''\n",
        "    item_train = genfromtxt('content_item_train.csv', delimiter=',')\n",
        "    user_train = genfromtxt('content_user_train.csv', delimiter=',')\n",
        "    y_train    = genfromtxt('content_y_train.csv', delimiter=',')\n",
        "    with open('content_item_train_header.txt', newline='') as f:    #csv reader handles quoted strings better\n",
        "        item_features = list(csv.reader(f))[0]\n",
        "    with open('content_user_train_header.txt', newline='') as f:\n",
        "        user_features = list(csv.reader(f))[0]\n",
        "    item_vecs = genfromtxt('content_item_vecs.csv', delimiter=',')\n",
        "\n",
        "    movie_dict = defaultdict(dict)\n",
        "    count = 0\n",
        "#    with open('./data/movies.csv', newline='') as csvfile:\n",
        "    with open('content_movie_list.csv', newline='') as csvfile:\n",
        "        reader = csv.reader(csvfile, delimiter=',', quotechar='\"')\n",
        "        for line in reader:\n",
        "            if count == 0:\n",
        "                count += 1  #skip header\n",
        "                #print(line) print\n",
        "            else:\n",
        "                count += 1\n",
        "                movie_id = int(line[0])\n",
        "                movie_dict[movie_id][\"title\"] = line[1]\n",
        "                movie_dict[movie_id][\"genres\"] = line[2]\n",
        "\n",
        "    with open('content_user_to_genre.pickle', 'rb') as f:\n",
        "        user_to_genre = pickle.load(f)\n",
        "\n",
        "    return(item_train, user_train, y_train, item_features, user_features, item_vecs, movie_dict, user_to_genre)"
      ],
      "metadata": {
        "id": "DDgMbtGaY5Ko"
      },
      "execution_count": null,
      "outputs": []
    },
    {
      "cell_type": "code",
      "source": [
        "item_train, user_train, y_train, item_features, user_features, item_vecs, movie_dict, user_to_genre = load_data()\n",
        "\n",
        "num_user_features = user_train.shape[1] - 3\n",
        "num_item_features = item_train.shape[1] - 1\n",
        "uvs = 3\n",
        "ivs = 3\n",
        "u_s = 3\n",
        "i_s = 1\n",
        "print(f\"Number of training vectors: {len(item_train)}\")"
      ],
      "metadata": {
        "colab": {
          "base_uri": "https://localhost:8080/"
        },
        "id": "oO4r-jqzYM6Z",
        "outputId": "3305da1c-26f8-4648-b175-72eb226972a3"
      },
      "execution_count": null,
      "outputs": [
        {
          "output_type": "stream",
          "name": "stdout",
          "text": [
            "Number of training vectors: 50884\n"
          ]
        }
      ]
    },
    {
      "cell_type": "code",
      "source": [
        "print(f\"y_train[:5]: {y_train[:5]}\")"
      ],
      "metadata": {
        "colab": {
          "base_uri": "https://localhost:8080/"
        },
        "id": "MgdfSjK81Aop",
        "outputId": "a85137a6-b612-4206-b9b5-a9c09af9fcda"
      },
      "execution_count": null,
      "outputs": [
        {
          "output_type": "stream",
          "name": "stdout",
          "text": [
            "y_train[:5]: [4.  3.5 4.  4.  4.5]\n"
          ]
        }
      ]
    },
    {
      "cell_type": "code",
      "source": [
        "\n",
        "item_train_unscaled = item_train\n",
        "user_train_unscaled = user_train\n",
        "y_train_unscaled    = y_train\n",
        "\n",
        "scalerItem = StandardScaler()\n",
        "scalerItem.fit(item_train)\n",
        "item_train = scalerItem.transform(item_train)\n",
        "\n",
        "scalerUser = StandardScaler()\n",
        "scalerUser.fit(user_train)\n",
        "user_train = scalerUser.transform(user_train)\n",
        "\n",
        "scalerTarget = MinMaxScaler((-1, 1))\n",
        "scalerTarget.fit(y_train.reshape(-1, 1))\n",
        "y_train = scalerTarget.transform(y_train.reshape(-1, 1))\n",
        "#ynorm_test = scalerTarget.transform(y_test.reshape(-1, 1))\n",
        "\n",
        "print(np.allclose(item_train_unscaled, scalerItem.inverse_transform(item_train)))\n",
        "print(np.allclose(user_train_unscaled, scalerUser.inverse_transform(user_train)))"
      ],
      "metadata": {
        "colab": {
          "base_uri": "https://localhost:8080/"
        },
        "id": "XjeiYOMa1Jkx",
        "outputId": "3431522b-4770-428f-9b2e-6779f98041ed"
      },
      "execution_count": null,
      "outputs": [
        {
          "output_type": "stream",
          "name": "stdout",
          "text": [
            "True\n",
            "True\n"
          ]
        }
      ]
    },
    {
      "cell_type": "code",
      "source": [
        "item_train, item_test = train_test_split(item_train, train_size=0.80, shuffle=True, random_state=1)\n",
        "user_train, user_test = train_test_split(user_train, train_size=0.80, shuffle=True, random_state=1)\n",
        "y_train, y_test       = train_test_split(y_train,    train_size=0.80, shuffle=True, random_state=1)\n",
        "print(f\"movie/item training data shape: {item_train.shape}\")\n",
        "print(f\"movie/item test data shape: {item_test.shape}\")"
      ],
      "metadata": {
        "colab": {
          "base_uri": "https://localhost:8080/"
        },
        "id": "jhaD4DH21N3K",
        "outputId": "9d4c2e22-0b98-48c1-da39-3a95a4a998b5"
      },
      "execution_count": null,
      "outputs": [
        {
          "output_type": "stream",
          "name": "stdout",
          "text": [
            "movie/item training data shape: (40707, 17)\n",
            "movie/item test data shape: (10177, 17)\n"
          ]
        }
      ]
    },
    {
      "cell_type": "code",
      "source": [
        "num_outputs = 32\n",
        "tf.random.set_seed(1)\n",
        "user_NN = tf.keras.models.Sequential([\n",
        "\n",
        "    tf.keras.layers.Dense(256,activation = 'relu'),\n",
        "    tf.keras.layers.Dense(128,activation = 'relu'),\n",
        "    tf.keras.layers.Dense(num_outputs)\n",
        "\n",
        "])\n",
        "\n",
        "item_NN = tf.keras.models.Sequential([\n",
        "\n",
        "    tf.keras.layers.Dense(256,activation = 'relu'),\n",
        "    tf.keras.layers.Dense(128,activation = 'relu'),\n",
        "    tf.keras.layers.Dense(num_outputs)\n",
        "\n",
        "\n",
        "\n",
        "])\n",
        "\n",
        "\n",
        "input_user = tf.keras.layers.Input(shape=(num_user_features))\n",
        "vu = user_NN(input_user)\n",
        "vu = tf.linalg.l2_normalize(vu, axis=1)\n",
        "\n",
        "input_item = tf.keras.layers.Input(shape=(num_item_features))\n",
        "vm = item_NN(input_item)\n",
        "vm = tf.linalg.l2_normalize(vm, axis=1)\n",
        "output = tf.keras.layers.Dot(axes=1)([vu, vm])\n",
        "\n",
        "model = tf.keras.Model([input_user, input_item], output)\n",
        "\n",
        "model.summary()"
      ],
      "metadata": {
        "colab": {
          "base_uri": "https://localhost:8080/"
        },
        "id": "sWKKqoyB1ZKx",
        "outputId": "66c67bff-1850-436a-ad6e-6c12577ad0a6"
      },
      "execution_count": null,
      "outputs": [
        {
          "output_type": "stream",
          "name": "stdout",
          "text": [
            "Model: \"model\"\n",
            "__________________________________________________________________________________________________\n",
            " Layer (type)                   Output Shape         Param #     Connected to                     \n",
            "==================================================================================================\n",
            " input_1 (InputLayer)           [(None, 14)]         0           []                               \n",
            "                                                                                                  \n",
            " input_2 (InputLayer)           [(None, 16)]         0           []                               \n",
            "                                                                                                  \n",
            " sequential (Sequential)        (None, 32)           40864       ['input_1[0][0]']                \n",
            "                                                                                                  \n",
            " sequential_1 (Sequential)      (None, 32)           41376       ['input_2[0][0]']                \n",
            "                                                                                                  \n",
            " tf.math.l2_normalize (TFOpLamb  (None, 32)          0           ['sequential[0][0]']             \n",
            " da)                                                                                              \n",
            "                                                                                                  \n",
            " tf.math.l2_normalize_1 (TFOpLa  (None, 32)          0           ['sequential_1[0][0]']           \n",
            " mbda)                                                                                            \n",
            "                                                                                                  \n",
            " dot (Dot)                      (None, 1)            0           ['tf.math.l2_normalize[0][0]',   \n",
            "                                                                  'tf.math.l2_normalize_1[0][0]'] \n",
            "                                                                                                  \n",
            "==================================================================================================\n",
            "Total params: 82,240\n",
            "Trainable params: 82,240\n",
            "Non-trainable params: 0\n",
            "__________________________________________________________________________________________________\n"
          ]
        }
      ]
    },
    {
      "cell_type": "code",
      "source": [
        "tf.random.set_seed(1)\n",
        "cost_fn = tf.keras.losses.MeanSquaredError()\n",
        "opt = keras.optimizers.Adam(learning_rate=0.01)\n",
        "model.compile(optimizer=opt,\n",
        "              loss=cost_fn)"
      ],
      "metadata": {
        "id": "i1Nb62Tf1m5e"
      },
      "execution_count": null,
      "outputs": []
    },
    {
      "cell_type": "code",
      "source": [
        "tf.random.set_seed(1)\n",
        "model.fit([user_train[:, u_s:], item_train[:, i_s:]], y_train, epochs=30)"
      ],
      "metadata": {
        "colab": {
          "base_uri": "https://localhost:8080/"
        },
        "id": "VLbUxGL31uHa",
        "outputId": "fd2fe2de-6fa2-4fd0-8d50-26476cf1d410"
      },
      "execution_count": null,
      "outputs": [
        {
          "output_type": "stream",
          "name": "stdout",
          "text": [
            "Epoch 1/30\n",
            "1273/1273 [==============================] - 9s 6ms/step - loss: 0.1241\n",
            "Epoch 2/30\n",
            "1273/1273 [==============================] - 10s 8ms/step - loss: 0.1156\n",
            "Epoch 3/30\n",
            "1273/1273 [==============================] - 4s 3ms/step - loss: 0.1106\n",
            "Epoch 4/30\n",
            "1273/1273 [==============================] - 5s 4ms/step - loss: 0.1053\n",
            "Epoch 5/30\n",
            "1273/1273 [==============================] - 5s 4ms/step - loss: 0.1024\n",
            "Epoch 6/30\n",
            "1273/1273 [==============================] - 4s 3ms/step - loss: 0.0996\n",
            "Epoch 7/30\n",
            "1273/1273 [==============================] - 5s 4ms/step - loss: 0.0974\n",
            "Epoch 8/30\n",
            "1273/1273 [==============================] - 4s 3ms/step - loss: 0.0954\n",
            "Epoch 9/30\n",
            "1273/1273 [==============================] - 4s 3ms/step - loss: 0.0933\n",
            "Epoch 10/30\n",
            "1273/1273 [==============================] - 7s 5ms/step - loss: 0.0918\n",
            "Epoch 11/30\n",
            "1273/1273 [==============================] - 4s 3ms/step - loss: 0.0899\n",
            "Epoch 12/30\n",
            "1273/1273 [==============================] - 5s 4ms/step - loss: 0.0882\n",
            "Epoch 13/30\n",
            "1273/1273 [==============================] - 4s 3ms/step - loss: 0.0871\n",
            "Epoch 14/30\n",
            "1273/1273 [==============================] - 4s 3ms/step - loss: 0.0860\n",
            "Epoch 15/30\n",
            "1273/1273 [==============================] - 8s 6ms/step - loss: 0.0845\n",
            "Epoch 16/30\n",
            "1273/1273 [==============================] - 4s 3ms/step - loss: 0.0831\n",
            "Epoch 17/30\n",
            "1273/1273 [==============================] - 4s 4ms/step - loss: 0.0820\n",
            "Epoch 18/30\n",
            "1273/1273 [==============================] - 5s 4ms/step - loss: 0.0810\n",
            "Epoch 19/30\n",
            "1273/1273 [==============================] - 4s 3ms/step - loss: 0.0803\n",
            "Epoch 20/30\n",
            "1273/1273 [==============================] - 5s 4ms/step - loss: 0.0792\n",
            "Epoch 21/30\n",
            "1273/1273 [==============================] - 4s 3ms/step - loss: 0.0783\n",
            "Epoch 22/30\n",
            "1273/1273 [==============================] - 4s 3ms/step - loss: 0.0777\n",
            "Epoch 23/30\n",
            "1273/1273 [==============================] - 5s 4ms/step - loss: 0.0768\n",
            "Epoch 24/30\n",
            "1273/1273 [==============================] - 5s 4ms/step - loss: 0.0761\n",
            "Epoch 25/30\n",
            "1273/1273 [==============================] - 5s 4ms/step - loss: 0.0753\n",
            "Epoch 26/30\n",
            "1273/1273 [==============================] - 7s 6ms/step - loss: 0.0747\n",
            "Epoch 27/30\n",
            "1273/1273 [==============================] - 11s 9ms/step - loss: 0.0740\n",
            "Epoch 28/30\n",
            "1273/1273 [==============================] - 9s 7ms/step - loss: 0.0734\n",
            "Epoch 29/30\n",
            "1273/1273 [==============================] - 5s 4ms/step - loss: 0.0728\n",
            "Epoch 30/30\n",
            "1273/1273 [==============================] - 4s 3ms/step - loss: 0.0722\n"
          ]
        },
        {
          "output_type": "execute_result",
          "data": {
            "text/plain": [
              "<keras.callbacks.History at 0x7f544d22da80>"
            ]
          },
          "metadata": {},
          "execution_count": 12
        }
      ]
    },
    {
      "cell_type": "code",
      "source": [
        "model.evaluate([user_test[:, u_s:], item_test[:, i_s:]], y_test)"
      ],
      "metadata": {
        "colab": {
          "base_uri": "https://localhost:8080/"
        },
        "id": "7HAD2kL72NTm",
        "outputId": "5476b6d6-2f4d-4bc8-ba01-a9800514b096"
      },
      "execution_count": null,
      "outputs": [
        {
          "output_type": "stream",
          "name": "stdout",
          "text": [
            "319/319 [==============================] - 1s 2ms/step - loss: 0.0815\n"
          ]
        },
        {
          "output_type": "execute_result",
          "data": {
            "text/plain": [
              "0.08150702714920044"
            ]
          },
          "metadata": {},
          "execution_count": 13
        }
      ]
    },
    {
      "cell_type": "code",
      "source": [
        "new_user_id = 5000\n",
        "new_rating_ave = 0.0\n",
        "new_action = 0.0\n",
        "new_adventure = 5.0\n",
        "new_animation = 10.0\n",
        "new_childrens = 5.0\n",
        "new_comedy = 0.0\n",
        "new_crime = 0.0\n",
        "new_documentary = 0.0\n",
        "new_drama = 0.0\n",
        "new_fantasy = 5.0\n",
        "new_horror = 5.0\n",
        "new_mystery = 5.0\n",
        "new_romance = 0.0\n",
        "new_scifi = 5.0\n",
        "new_thriller = 0.0\n",
        "new_rating_count = 3\n",
        "\n",
        "user_vec = np.array([[new_user_id, new_rating_count, new_rating_ave,\n",
        "                      new_action, new_adventure, new_animation, new_childrens,\n",
        "                      new_comedy, new_crime, new_documentary,\n",
        "                      new_drama, new_fantasy, new_horror, new_mystery,\n",
        "                      new_romance, new_scifi, new_thriller]])"
      ],
      "metadata": {
        "id": "ujU1va242quq"
      },
      "execution_count": null,
      "outputs": []
    },
    {
      "cell_type": "code",
      "source": [
        "def gen_user_vecs(user_vec, num_items):\n",
        "\n",
        "    user_vecs = np.tile(user_vec, (num_items, 1))\n",
        "    return user_vecs\n",
        "\n",
        "# predict on  everything, filter on print/use\n",
        "def predict_uservec(user_vecs, item_vecs, model, u_s, i_s, scaler):\n",
        "\n",
        "    y_p = model.predict([user_vecs[:, u_s:], item_vecs[:, i_s:]])\n",
        "    y_pu = scaler.inverse_transform(y_p)\n",
        "\n",
        "    if np.any(y_pu < 0):\n",
        "        print(\"Error, expected all positive predictions\")\n",
        "    sorted_index = np.argsort(-y_pu, axis=0).reshape(-1).tolist()  #negate to get largest rating first\n",
        "    sorted_ypu   = y_pu[sorted_index]\n",
        "    sorted_items = item_vecs[sorted_index]\n",
        "    sorted_user  = user_vecs[sorted_index]\n",
        "    return(sorted_index, sorted_ypu, sorted_items, sorted_user)\n",
        "\n",
        "def get_user_vecs(user_id, user_train, item_vecs, user_to_genre):\n",
        "\n",
        "    if not user_id in user_to_genre:\n",
        "        print(\"error: unknown user id\")\n",
        "        return None\n",
        "    else:\n",
        "        user_vec_found = False\n",
        "        for i in range(len(user_train)):\n",
        "            if user_train[i, 0] == user_id:\n",
        "                user_vec = user_train[i]\n",
        "                user_vec_found = True\n",
        "                break\n",
        "        if not user_vec_found:\n",
        "            print(\"error in get_user_vecs, did not find uid in user_train\")\n",
        "        num_items = len(item_vecs)\n",
        "        user_vecs = np.tile(user_vec, (num_items, 1))\n",
        "\n",
        "        y = np.zeros(num_items)\n",
        "        for i in range(num_items):  # walk through movies in item_vecs and get the movies, see if user has rated them\n",
        "            movie_id = item_vecs[i, 0]\n",
        "            if movie_id in user_to_genre[user_id]['movies']:\n",
        "                rating = user_to_genre[user_id]['movies'][movie_id]\n",
        "            else:\n",
        "                rating = 0\n",
        "            y[i] = rating\n",
        "    return(user_vecs, y)\n",
        "\n",
        "def get_item_genres(item_gvec, genre_features):\n",
        "\n",
        "    offsets = np.nonzero(item_gvec)[0]\n",
        "    genres = [genre_features[i] for i in offsets]\n",
        "    return genres\n",
        "\n",
        "\n",
        "def print_existing_user(y_p, y, user, items, ivs, uvs, movie_dict, maxcount=10):\n",
        "\n",
        "    count = 0\n",
        "    disp = [[\"y_p\", \"y\", \"user\", \"user genre ave\", \"movie rating ave\", \"movie id\", \"title\", \"genres\"]]\n",
        "    count = 0\n",
        "    for i in range(0, y.shape[0]):\n",
        "        if y[i, 0] != 0:  # zero means not rated\n",
        "            if count == maxcount:\n",
        "                break\n",
        "            count += 1\n",
        "            movie_id = items[i, 0].astype(int)\n",
        "\n",
        "            offsets = np.nonzero(items[i, ivs:] == 1)[0]\n",
        "            genre_ratings = user[i, uvs + offsets]\n",
        "            disp.append([y_p[i, 0], y[i, 0],\n",
        "                         user[i, 0].astype(int),      # userid\n",
        "                         np.array2string(genre_ratings,\n",
        "                                         formatter={'float_kind':lambda x: \"%.1f\" % x},\n",
        "                                         separator=',', suppress_small=True),\n",
        "                         items[i, 2].astype(float),    # movie average rating\n",
        "                         movie_id,\n",
        "                         movie_dict[movie_id]['title'],\n",
        "                         movie_dict[movie_id]['genres']])\n",
        "\n",
        "    table = tabulate.tabulate(disp, tablefmt='html', headers=\"firstrow\", floatfmt=[\".1f\", \".1f\", \".0f\", \".2f\", \".1f\"])\n",
        "    return table\n",
        "\n",
        "def print_pred_movies(y_p, item, movie_dict, maxcount=10):\n",
        "\n",
        "    count = 0\n",
        "    disp = [[\"y_p\", \"movie id\", \"rating ave\", \"title\", \"genres\"]]\n",
        "\n",
        "    for i in range(0, y_p.shape[0]):\n",
        "        if count == maxcount:\n",
        "            break\n",
        "        count += 1\n",
        "        movie_id = item[i, 0].astype(int)\n",
        "        disp.append([np.around(y_p[i, 0], 1), item[i, 0].astype(int), np.around(item[i, 2].astype(float), 1),\n",
        "                     movie_dict[movie_id]['title'], movie_dict[movie_id]['genres']])\n",
        "\n",
        "    table = tabulate.tabulate(disp, tablefmt='txt', headers=\"firstrow\")\n",
        "    return table\n"
      ],
      "metadata": {
        "id": "UE9RziVX3ICu"
      },
      "execution_count": null,
      "outputs": []
    },
    {
      "cell_type": "code",
      "source": [
        "\n",
        "user_vecs = gen_user_vecs(user_vec,len(item_vecs))\n",
        "\n",
        "suser_vecs = scalerUser.transform(user_vecs)\n",
        "sitem_vecs = scalerItem.transform(item_vecs)\n",
        "\n",
        "y_p = model.predict([suser_vecs[:, u_s:], sitem_vecs[:, i_s:]])\n",
        "\n",
        "# unscale y prediction\n",
        "y_pu = scalerTarget.inverse_transform(y_p)\n",
        "\n",
        "sorted_index = np.argsort(-y_pu,axis=0).reshape(-1).tolist()  #negate to get largest rating first\n",
        "sorted_ypu   = y_pu[sorted_index]\n",
        "sorted_items = item_vecs[sorted_index]\n",
        "\n",
        "sorted_items\n",
        "print_pred_movies(sorted_ypu, sorted_items, movie_dict, maxcount = 10)"
      ],
      "metadata": {
        "colab": {
          "base_uri": "https://localhost:8080/",
          "height": 140
        },
        "id": "1ImYsylr2wTi",
        "outputId": "7dd46ae4-507e-4b20-de2a-55cdf5997599"
      },
      "execution_count": null,
      "outputs": [
        {
          "output_type": "stream",
          "name": "stdout",
          "text": [
            "27/27 [==============================] - 0s 2ms/step\n"
          ]
        },
        {
          "output_type": "execute_result",
          "data": {
            "text/plain": [
              "'  y_p    movie id    rating ave  title                                                             genres\\n-----  ----------  ------------  ----------------------------------------------------------------  --------------------------------------------------\\n  4.7      108932           3.9  The Lego Movie (2014)                                             Action|Adventure|Animation|Children|Comedy|Fantasy\\n  4.7        5444           3.8  Lilo & Stitch (2002)                                              Adventure|Animation|Children|Sci-Fi\\n  4.7       97913           3.8  Wreck-It Ralph (2012)                                             Animation|Comedy\\n  4.6        4886           3.9  Monsters, Inc. (2001)                                             Adventure|Animation|Children|Comedy|Fantasy\\n  4.6      115617           3.9  Big Hero 6 (2014)                                                 Action|Animation|Comedy\\n  4.5       60069           4.1  WALL·E (2008)                                                     Adventure|Animation|Children|Romance|Sci-Fi\\n  4.5        5072           4    Metropolis (2001)                                                 Animation|Sci-Fi\\n  4.5       81847           3.9  Tangled (2010)                                                    Animation|Children|Comedy|Fantasy|Romance\\n  4.5        6283           3.9  Cowboy Bebop: The Movie (Cowboy Bebop: Tengoku no Tobira) (2001)  Action|Animation|Sci-Fi|Thriller\\n  4.5        5618           4.2  Spirited Away (Sen to Chihiro no kamikakushi) (2001)              Adventure|Animation|Fantasy'"
            ],
            "application/vnd.google.colaboratory.intrinsic+json": {
              "type": "string"
            }
          },
          "metadata": {},
          "execution_count": 16
        }
      ]
    },
    {
      "cell_type": "markdown",
      "source": [
        "### Preditcing for existing user"
      ],
      "metadata": {
        "id": "yOSl7yDBjFgD"
      }
    },
    {
      "cell_type": "code",
      "source": [
        "uid = 2\n",
        "user_vecs, y_vecs = get_user_vecs(uid, user_train_unscaled, item_vecs, user_to_genre)\n",
        "\n",
        "suser_vecs = scalerUser.transform(user_vecs)\n",
        "sitem_vecs = scalerItem.transform(item_vecs)\n",
        "\n",
        "\n",
        "y_p = model.predict([suser_vecs[:, u_s:], sitem_vecs[:, i_s:]])\n",
        "\n",
        "y_pu = scalerTarget.inverse_transform(y_p)\n",
        "\n",
        "\n",
        "sorted_index = np.argsort(-y_pu,axis=0).reshape(-1).tolist()\n",
        "sorted_ypu   = y_pu[sorted_index]\n",
        "sorted_items = item_vecs[sorted_index]\n",
        "sorted_user  = user_vecs[sorted_index]\n",
        "sorted_y     = y_vecs[sorted_index]\n",
        "\n",
        "\n"
      ],
      "metadata": {
        "colab": {
          "base_uri": "https://localhost:8080/"
        },
        "id": "HbJLnvKg3nZZ",
        "outputId": "de37bbbe-087b-4fb4-d976-cb6b9a20c30e"
      },
      "execution_count": null,
      "outputs": [
        {
          "output_type": "stream",
          "name": "stdout",
          "text": [
            "27/27 [==============================] - 0s 2ms/step\n"
          ]
        }
      ]
    },
    {
      "cell_type": "markdown",
      "source": [
        "### Recommendation of movie based on user profile"
      ],
      "metadata": {
        "id": "8i6HC8Q-jLS3"
      }
    },
    {
      "cell_type": "code",
      "source": [
        "def sq_dist(a,b):\n",
        "    d= np.sum((a-b)**2)\n",
        "    return d"
      ],
      "metadata": {
        "id": "MFAv52eM4tlz"
      },
      "execution_count": null,
      "outputs": []
    },
    {
      "cell_type": "code",
      "source": [
        "input_item_m = tf.keras.layers.Input(shape=(num_item_features))    # input layer\n",
        "vm_m = item_NN(input_item_m)                                       # use the trained item_NN\n",
        "vm_m = tf.linalg.l2_normalize(vm_m, axis=1)                        # incorporate normalization as was done in the original model\n",
        "model_m = tf.keras.Model(input_item_m, vm_m)\n",
        "model_m.summary()"
      ],
      "metadata": {
        "colab": {
          "base_uri": "https://localhost:8080/"
        },
        "id": "HLHDkdY-42Ex",
        "outputId": "c9415ce6-e12f-4636-95ff-9b389c1bc5ca"
      },
      "execution_count": null,
      "outputs": [
        {
          "output_type": "stream",
          "name": "stdout",
          "text": [
            "Model: \"model_1\"\n",
            "_________________________________________________________________\n",
            " Layer (type)                Output Shape              Param #   \n",
            "=================================================================\n",
            " input_3 (InputLayer)        [(None, 16)]              0         \n",
            "                                                                 \n",
            " sequential_1 (Sequential)   (None, 32)                41376     \n",
            "                                                                 \n",
            " tf.math.l2_normalize_2 (TFO  (None, 32)               0         \n",
            " pLambda)                                                        \n",
            "                                                                 \n",
            "=================================================================\n",
            "Total params: 41,376\n",
            "Trainable params: 41,376\n",
            "Non-trainable params: 0\n",
            "_________________________________________________________________\n"
          ]
        }
      ]
    },
    {
      "cell_type": "code",
      "source": [
        "scaled_item_vecs = scalerItem.transform(item_vecs)\n",
        "vms = model_m.predict(scaled_item_vecs[:,i_s:])\n",
        "print(f\"size of all predicted movie feature vectors: {vms.shape}\")"
      ],
      "metadata": {
        "colab": {
          "base_uri": "https://localhost:8080/"
        },
        "id": "h3zey9lK47BT",
        "outputId": "52ae9b05-1e67-41bd-9f94-cf1ee6421e5b"
      },
      "execution_count": null,
      "outputs": [
        {
          "output_type": "stream",
          "name": "stdout",
          "text": [
            "27/27 [==============================] - 0s 1ms/step\n",
            "size of all predicted movie feature vectors: (847, 32)\n"
          ]
        }
      ]
    },
    {
      "cell_type": "code",
      "source": [
        "count = 50  # number of movies to display\n",
        "dim = len(vms)\n",
        "dist = np.zeros((dim,dim))\n",
        "\n",
        "for i in range(dim):\n",
        "    for j in range(dim):\n",
        "        dist[i,j] = sq_dist(vms[i, :], vms[j, :])\n",
        "\n",
        "m_dist = ma.masked_array(dist, mask=np.identity(dist.shape[0]))  # mask the diagonal\n",
        "\n",
        "disp = [[\"movie1\", \"genres\", \"movie2\", \"genres\"]]\n",
        "for i in range(count):\n",
        "    min_idx = np.argmin(m_dist[i])\n",
        "    movie1_id = int(item_vecs[i,0])\n",
        "    movie2_id = int(item_vecs[min_idx,0])\n",
        "    disp.append( [movie_dict[movie1_id]['title'], movie_dict[movie1_id]['genres'],\n",
        "                  movie_dict[movie2_id]['title'], movie_dict[movie1_id]['genres']]\n",
        "               )\n",
        "\n",
        "table = tabulate.tabulate(disp, headers=\"firstrow\")\n",
        "table"
      ],
      "metadata": {
        "colab": {
          "base_uri": "https://localhost:8080/",
          "height": 123
        },
        "id": "b7zKfdJ349Eg",
        "outputId": "35d1cf7a-85b3-4c70-c699-a72e0ae4badb"
      },
      "execution_count": null,
      "outputs": [
        {
          "output_type": "execute_result",
          "data": {
            "text/plain": [
              "\"movie1                                    genres                                               movie2                                          genres\\n----------------------------------------  ---------------------------------------------------  ----------------------------------------------  ---------------------------------------------------\\nSave the Last Dance (2001)                Drama|Romance                                        Mona Lisa Smile (2003)                          Drama|Romance\\nWedding Planner, The (2001)               Comedy|Romance                                       Mr. Deeds (2002)                                Comedy|Romance\\nHannibal (2001)                           Horror|Thriller                                      Final Destination 2 (2003)                      Horror|Thriller\\nSaving Silverman (Evil Woman) (2001)      Comedy|Romance                                       Sweetest Thing, The (2002)                      Comedy|Romance\\nDown to Earth (2001)                      Comedy|Fantasy|Romance                               Bewitched (2005)                                Comedy|Fantasy|Romance\\nMexican, The (2001)                       Action|Comedy                                        Rush Hour 2 (2001)                              Action|Comedy\\n15 Minutes (2001)                         Thriller                                             Panic Room (2002)                               Thriller\\nEnemy at the Gates (2001)                 Drama                                                Seabiscuit (2003)                               Drama\\nHeartbreakers (2001)                      Comedy|Crime|Romance                                 Fun with Dick and Jane (2005)                   Comedy|Crime|Romance\\nSpy Kids (2001)                           Action|Adventure|Children|Comedy                     Scooby-Doo (2002)                               Action|Adventure|Children|Comedy\\nAlong Came a Spider (2001)                Action|Crime|Mystery|Thriller                        Insomnia (2002)                                 Action|Crime|Mystery|Thriller\\nBlow (2001)                               Crime|Drama                                          25th Hour (2002)                                Crime|Drama\\nBridget Jones's Diary (2001)              Comedy|Drama|Romance                                 Punch-Drunk Love (2002)                         Comedy|Drama|Romance\\nJoe Dirt (2001)                           Adventure|Comedy|Mystery|Romance                     Elektra (2005)                                  Adventure|Comedy|Mystery|Romance\\nCrocodile Dundee in Los Angeles (2001)    Comedy|Drama                                         Dr. Dolittle 2 (2001)                           Comedy|Drama\\nMummy Returns, The (2001)                 Action|Adventure|Comedy|Thriller                     Spy Kids (2001)                                 Action|Adventure|Comedy|Thriller\\nKnight's Tale, A (2001)                   Action|Comedy|Romance                                13 Going on 30 (2004)                           Action|Comedy|Romance\\nShrek (2001)                              Adventure|Animation|Children|Comedy|Fantasy|Romance  Enchanted (2007)                                Adventure|Animation|Children|Comedy|Fantasy|Romance\\nMoulin Rouge (2001)                       Drama|Romance                                        Notebook, The (2004)                            Drama|Romance\\nPearl Harbor (2001)                       Action|Drama|Romance                                 Save the Last Dance (2001)                      Action|Drama|Romance\\nAnimal, The (2001)                        Comedy                                               Dumb and Dumberer: When Harry Met Lloyd (2003)  Comedy\\nEvolution (2001)                          Comedy|Sci-Fi                                        Behind Enemy Lines (2001)                       Comedy|Sci-Fi\\nSwordfish (2001)                          Action|Crime|Drama                                   Rocky Balboa (2006)                             Action|Crime|Drama\\nAtlantis: The Lost Empire (2001)          Adventure|Animation|Children|Fantasy                 Cloudy with a Chance of Meatballs (2009)        Adventure|Animation|Children|Fantasy\\nLara Croft: Tomb Raider (2001)            Action|Adventure                                     Aeon Flux (2005)                                Action|Adventure\\nDr. Dolittle 2 (2001)                     Comedy                                               Legally Blonde 2: Red, White & Blonde (2003)    Comedy\\nFast and the Furious, The (2001)          Action|Crime|Thriller                                Once Upon a Time in Mexico (2003)               Action|Crime|Thriller\\nA.I. Artificial Intelligence (2001)       Adventure|Drama|Sci-Fi                               Manchurian Candidate, The (2004)                Adventure|Drama|Sci-Fi\\nCats & Dogs (2001)                        Children|Comedy                                      Robots (2005)                                   Children|Comedy\\nScary Movie 2 (2001)                      Comedy                                               Not Another Teen Movie (2001)                   Comedy\\nFinal Fantasy: The Spirits Within (2001)  Adventure|Animation|Fantasy|Sci-Fi                   Rush Hour 2 (2001)                              Adventure|Animation|Fantasy|Sci-Fi\\nLegally Blonde (2001)                     Comedy|Romance                                       Serendipity (2001)                              Comedy|Romance\\nScore, The (2001)                         Action|Drama                                         Taken (2008)                                    Action|Drama\\nJurassic Park III (2001)                  Action|Adventure|Sci-Fi|Thriller                     Matrix Revolutions, The (2003)                  Action|Adventure|Sci-Fi|Thriller\\nAmerica's Sweethearts (2001)              Comedy|Romance                                       Maid in Manhattan (2002)                        Comedy|Romance\\nGhost World (2001)                        Comedy|Drama                                         Station Agent, The (2003)                       Comedy|Drama\\nPlanet of the Apes (2001)                 Action|Adventure|Drama|Sci-Fi                        Day After Tomorrow, The (2004)                  Action|Adventure|Drama|Sci-Fi\\nPrincess Diaries, The (2001)              Children|Comedy|Romance                              Lake House, The (2006)                          Children|Comedy|Romance\\nRush Hour 2 (2001)                        Action|Comedy                                        Mexican, The (2001)                             Action|Comedy\\nAmerican Pie 2 (2001)                     Comedy                                               Rat Race (2001)                                 Comedy\\nOthers, The (2001)                        Drama|Horror|Mystery|Thriller                        Mulholland Drive (2001)                         Drama|Horror|Mystery|Thriller\\nRat Race (2001)                           Comedy                                               American Pie 2 (2001)                           Comedy\\nJay and Silent Bob Strike Back (2001)     Adventure|Comedy                                     EuroTrip (2004)                                 Adventure|Comedy\\nTraining Day (2001)                       Crime|Drama|Thriller                                 Frailty (2001)                                  Crime|Drama|Thriller\\nZoolander (2001)                          Comedy                                               Old School (2003)                               Comedy\\nSerendipity (2001)                        Comedy|Romance                                       Legally Blonde (2001)                           Comedy|Romance\\nMulholland Drive (2001)                   Crime|Drama|Mystery|Thriller                         Donnie Darko (2001)                             Crime|Drama|Mystery|Thriller\\nFrom Hell (2001)                          Crime|Horror|Mystery|Thriller                        Identity (2003)                                 Crime|Horror|Mystery|Thriller\\nWaking Life (2001)                        Animation|Drama|Fantasy                              Coraline (2009)                                 Animation|Drama|Fantasy\\nK-PAX (2001)                              Drama|Fantasy|Mystery|Sci-Fi                         Gosford Park (2001)                             Drama|Fantasy|Mystery|Sci-Fi\""
            ],
            "application/vnd.google.colaboratory.intrinsic+json": {
              "type": "string"
            }
          },
          "metadata": {},
          "execution_count": 21
        }
      ]
    },
    {
      "cell_type": "code",
      "source": [
        "disp"
      ],
      "metadata": {
        "colab": {
          "base_uri": "https://localhost:8080/"
        },
        "id": "UEWFPBaOTnxA",
        "outputId": "5931ef65-d9b1-4aab-ad38-b7c37ea4d4fc"
      },
      "execution_count": null,
      "outputs": [
        {
          "output_type": "execute_result",
          "data": {
            "text/plain": [
              "[['movie1', 'genres', 'movie2', 'genres'],\n",
              " ['Save the Last Dance (2001)',\n",
              "  'Drama|Romance',\n",
              "  'Mona Lisa Smile (2003)',\n",
              "  'Drama|Romance'],\n",
              " ['Wedding Planner, The (2001)',\n",
              "  'Comedy|Romance',\n",
              "  'Mr. Deeds (2002)',\n",
              "  'Comedy|Romance'],\n",
              " ['Hannibal (2001)',\n",
              "  'Horror|Thriller',\n",
              "  'Final Destination 2 (2003)',\n",
              "  'Horror|Thriller'],\n",
              " ['Saving Silverman (Evil Woman) (2001)',\n",
              "  'Comedy|Romance',\n",
              "  'Sweetest Thing, The (2002)',\n",
              "  'Comedy|Romance'],\n",
              " ['Down to Earth (2001)',\n",
              "  'Comedy|Fantasy|Romance',\n",
              "  'Bewitched (2005)',\n",
              "  'Comedy|Fantasy|Romance'],\n",
              " ['Mexican, The (2001)',\n",
              "  'Action|Comedy',\n",
              "  'Rush Hour 2 (2001)',\n",
              "  'Action|Comedy'],\n",
              " ['15 Minutes (2001)', 'Thriller', 'Panic Room (2002)', 'Thriller'],\n",
              " ['Enemy at the Gates (2001)', 'Drama', 'Seabiscuit (2003)', 'Drama'],\n",
              " ['Heartbreakers (2001)',\n",
              "  'Comedy|Crime|Romance',\n",
              "  'Fun with Dick and Jane (2005)',\n",
              "  'Comedy|Crime|Romance'],\n",
              " ['Spy Kids (2001)',\n",
              "  'Action|Adventure|Children|Comedy',\n",
              "  'Scooby-Doo (2002)',\n",
              "  'Action|Adventure|Children|Comedy'],\n",
              " ['Along Came a Spider (2001)',\n",
              "  'Action|Crime|Mystery|Thriller',\n",
              "  'Red Dragon (2002)',\n",
              "  'Action|Crime|Mystery|Thriller'],\n",
              " ['Blow (2001)',\n",
              "  'Crime|Drama',\n",
              "  \"Man Who Wasn't There, The (2001)\",\n",
              "  'Crime|Drama'],\n",
              " [\"Bridget Jones's Diary (2001)\",\n",
              "  'Comedy|Drama|Romance',\n",
              "  'Punch-Drunk Love (2002)',\n",
              "  'Comedy|Drama|Romance'],\n",
              " ['Joe Dirt (2001)',\n",
              "  'Adventure|Comedy|Mystery|Romance',\n",
              "  'Lake House, The (2006)',\n",
              "  'Adventure|Comedy|Mystery|Romance'],\n",
              " ['Crocodile Dundee in Los Angeles (2001)',\n",
              "  'Comedy|Drama',\n",
              "  'Animal, The (2001)',\n",
              "  'Comedy|Drama'],\n",
              " ['Mummy Returns, The (2001)',\n",
              "  'Action|Adventure|Comedy|Thriller',\n",
              "  'Indiana Jones and the Kingdom of the Crystal Skull (2008)',\n",
              "  'Action|Adventure|Comedy|Thriller'],\n",
              " [\"Knight's Tale, A (2001)\",\n",
              "  'Action|Comedy|Romance',\n",
              "  '13 Going on 30 (2004)',\n",
              "  'Action|Comedy|Romance'],\n",
              " ['Shrek (2001)',\n",
              "  'Adventure|Animation|Children|Comedy|Fantasy|Romance',\n",
              "  'Enchanted (2007)',\n",
              "  'Adventure|Animation|Children|Comedy|Fantasy|Romance'],\n",
              " ['Moulin Rouge (2001)',\n",
              "  'Drama|Romance',\n",
              "  'Hours, The (2002)',\n",
              "  'Drama|Romance'],\n",
              " ['Pearl Harbor (2001)',\n",
              "  'Action|Drama|Romance',\n",
              "  'Ladykillers, The (2004)',\n",
              "  'Action|Drama|Romance'],\n",
              " ['Animal, The (2001)',\n",
              "  'Comedy',\n",
              "  'Dumb and Dumberer: When Harry Met Lloyd (2003)',\n",
              "  'Comedy'],\n",
              " ['Evolution (2001)', 'Comedy|Sci-Fi', 'Mexican, The (2001)', 'Comedy|Sci-Fi'],\n",
              " ['Swordfish (2001)',\n",
              "  'Action|Crime|Drama',\n",
              "  'Wanted (2008)',\n",
              "  'Action|Crime|Drama'],\n",
              " ['Atlantis: The Lost Empire (2001)',\n",
              "  'Adventure|Animation|Children|Fantasy',\n",
              "  'Polar Express, The (2004)',\n",
              "  'Adventure|Animation|Children|Fantasy'],\n",
              " ['Lara Croft: Tomb Raider (2001)',\n",
              "  'Action|Adventure',\n",
              "  'Jurassic Park III (2001)',\n",
              "  'Action|Adventure'],\n",
              " ['Dr. Dolittle 2 (2001)',\n",
              "  'Comedy',\n",
              "  'Legally Blonde 2: Red, White & Blonde (2003)',\n",
              "  'Comedy'],\n",
              " ['Fast and the Furious, The (2001)',\n",
              "  'Action|Crime|Thriller',\n",
              "  'xXx (2002)',\n",
              "  'Action|Crime|Thriller'],\n",
              " ['A.I. Artificial Intelligence (2001)',\n",
              "  'Adventure|Drama|Sci-Fi',\n",
              "  'Enemy at the Gates (2001)',\n",
              "  'Adventure|Drama|Sci-Fi'],\n",
              " ['Cats & Dogs (2001)', 'Children|Comedy', 'Robots (2005)', 'Children|Comedy'],\n",
              " ['Scary Movie 2 (2001)', 'Comedy', 'Orange County (2002)', 'Comedy'],\n",
              " ['Final Fantasy: The Spirits Within (2001)',\n",
              "  'Adventure|Animation|Fantasy|Sci-Fi',\n",
              "  'Family Guy Presents Stewie Griffin: The Untold Story (2005)',\n",
              "  'Adventure|Animation|Fantasy|Sci-Fi'],\n",
              " ['Legally Blonde (2001)',\n",
              "  'Comedy|Romance',\n",
              "  'Serendipity (2001)',\n",
              "  'Comedy|Romance'],\n",
              " ['Score, The (2001)',\n",
              "  'Action|Drama',\n",
              "  'History of Violence, A (2005)',\n",
              "  'Action|Drama'],\n",
              " ['Jurassic Park III (2001)',\n",
              "  'Action|Adventure|Sci-Fi|Thriller',\n",
              "  'Lara Croft: Tomb Raider (2001)',\n",
              "  'Action|Adventure|Sci-Fi|Thriller'],\n",
              " [\"America's Sweethearts (2001)\",\n",
              "  'Comedy|Romance',\n",
              "  'Maid in Manhattan (2002)',\n",
              "  'Comedy|Romance'],\n",
              " ['Ghost World (2001)',\n",
              "  'Comedy|Drama',\n",
              "  'Station Agent, The (2003)',\n",
              "  'Comedy|Drama'],\n",
              " ['Planet of the Apes (2001)',\n",
              "  'Action|Adventure|Drama|Sci-Fi',\n",
              "  'Day After Tomorrow, The (2004)',\n",
              "  'Action|Adventure|Drama|Sci-Fi'],\n",
              " ['Princess Diaries, The (2001)',\n",
              "  'Children|Comedy|Romance',\n",
              "  'Kate & Leopold (2001)',\n",
              "  'Children|Comedy|Romance'],\n",
              " ['Rush Hour 2 (2001)',\n",
              "  'Action|Comedy',\n",
              "  'Mexican, The (2001)',\n",
              "  'Action|Comedy'],\n",
              " ['American Pie 2 (2001)', 'Comedy', 'Rat Race (2001)', 'Comedy'],\n",
              " ['Others, The (2001)',\n",
              "  'Drama|Horror|Mystery|Thriller',\n",
              "  'Dogville (2003)',\n",
              "  'Drama|Horror|Mystery|Thriller'],\n",
              " ['Rat Race (2001)', 'Comedy', 'American Pie 2 (2001)', 'Comedy'],\n",
              " ['Jay and Silent Bob Strike Back (2001)',\n",
              "  'Adventure|Comedy',\n",
              "  'EuroTrip (2004)',\n",
              "  'Adventure|Comedy'],\n",
              " ['Training Day (2001)',\n",
              "  'Crime|Drama|Thriller',\n",
              "  'Frailty (2001)',\n",
              "  'Crime|Drama|Thriller'],\n",
              " ['Zoolander (2001)', 'Comedy', 'Old School (2003)', 'Comedy'],\n",
              " ['Serendipity (2001)',\n",
              "  'Comedy|Romance',\n",
              "  'Legally Blonde (2001)',\n",
              "  'Comedy|Romance'],\n",
              " ['Mulholland Drive (2001)',\n",
              "  'Crime|Drama|Mystery|Thriller',\n",
              "  'Dogville (2003)',\n",
              "  'Crime|Drama|Mystery|Thriller'],\n",
              " ['From Hell (2001)',\n",
              "  'Crime|Horror|Mystery|Thriller',\n",
              "  'Identity (2003)',\n",
              "  'Crime|Horror|Mystery|Thriller'],\n",
              " ['Waking Life (2001)',\n",
              "  'Animation|Drama|Fantasy',\n",
              "  'Let the Right One In (Låt den rätte komma in) (2008)',\n",
              "  'Animation|Drama|Fantasy'],\n",
              " ['K-PAX (2001)',\n",
              "  'Drama|Fantasy|Mystery|Sci-Fi',\n",
              "  'Gosford Park (2001)',\n",
              "  'Drama|Fantasy|Mystery|Sci-Fi']]"
            ]
          },
          "metadata": {},
          "execution_count": 49
        }
      ]
    }
  ]
}